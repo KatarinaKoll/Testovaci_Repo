{
 "cells": [
  {
   "cell_type": "markdown",
   "metadata": {},
   "source": [
    "# Lineárna regresia\n",
    "Tento jupyter notebook obsahuje všetok kód, ktorý bol vo videách prvej kapitoly - lineárna regresia.\n",
    "\n",
    "Odporúčam ti aby si si všetko cez čo sme prešli naprogramoval a skúsil sám, bez toho aby si používal tento dokument.\n",
    "\n",
    "## Importy\n",
    "prvé čo musíme spraviť sú importy + pred prvým importom musím vykonať všetky magic príkazy, ktoré chcem. Ak by som magic príkazy spravil neskôr, nemusia fungovať.\n",
    "\n",
    "Niektoré knižnice importujeme spôsobom\n",
    "```python\n",
    "import numpy as np\n",
    "```\n",
    "kedy knižnicu premenujeme na nejakú skratku. Je to užitočné ak sa chceš vyhnúť písaniu. Inak to nemá nejaký funkčný vpliv na nič."
   ]
  },
  {
   "cell_type": "code",
   "execution_count": 1,
   "metadata": {},
   "outputs": [],
   "source": [
    "%matplotlib inline\n",
    "\n",
    "import numpy as np\n",
    "import pandas as pd\n",
    "import torch\n",
    "import matplotlib.pyplot as plt"
   ]
  },
  {
   "cell_type": "markdown",
   "metadata": {},
   "source": [
    "## Základy práce s numpy\n",
    "Predtým, než sa pusíme do práce, potrebujem získať skúsenosti práce s numpy a inými knižnicami.\n",
    "\n",
    "Rozdieľ medzi python listom a numpy polom je priepastný. Python pole je v podstate obyčajné pole, zatiaľ čo numpy vytvára vektory alebo matice."
   ]
  },
  {
   "cell_type": "code",
   "execution_count": 2,
   "metadata": {},
   "outputs": [],
   "source": [
    "foo = [1, 2, 3]\n",
    "bar = np.array([1,2,3])"
   ]
  },
  {
   "cell_type": "code",
   "execution_count": 3,
   "metadata": {},
   "outputs": [
    {
     "data": {
      "text/plain": [
       "[1, 2, 3]"
      ]
     },
     "execution_count": 3,
     "metadata": {},
     "output_type": "execute_result"
    }
   ],
   "source": [
    "foo"
   ]
  },
  {
   "cell_type": "code",
   "execution_count": 4,
   "metadata": {},
   "outputs": [
    {
     "data": {
      "text/plain": [
       "array([1, 2, 3])"
      ]
     },
     "execution_count": 4,
     "metadata": {},
     "output_type": "execute_result"
    }
   ],
   "source": [
    "bar"
   ]
  },
  {
   "cell_type": "code",
   "execution_count": 5,
   "metadata": {},
   "outputs": [
    {
     "data": {
      "text/plain": [
       "numpy.ndarray"
      ]
     },
     "execution_count": 5,
     "metadata": {},
     "output_type": "execute_result"
    }
   ],
   "source": [
    "type(bar)"
   ]
  },
  {
   "cell_type": "markdown",
   "metadata": {},
   "source": [
    "Funkcia `np.arange` spadá medzi generátory. Vie vytvoriť numpy __vektor__ s určeným počtom prvkov.\n",
    "\n",
    "```python\n",
    "np.arange([start], stop, [step])\n",
    "```\n",
    "\n",
    "Taktiež môžeme špecifikovať `start` a `stop`, čo je začiatok a koniec intervalu. `step` určuje krok medzi prvkami."
   ]
  },
  {
   "cell_type": "code",
   "execution_count": 6,
   "metadata": {},
   "outputs": [
    {
     "data": {
      "text/plain": [
       "array([ 5, 10, 15, 20])"
      ]
     },
     "execution_count": 6,
     "metadata": {},
     "output_type": "execute_result"
    }
   ],
   "source": [
    "np.arange(5, 25, 5)"
   ]
  },
  {
   "cell_type": "markdown",
   "metadata": {},
   "source": [
    "argumenty `start` a `step` sú dobrovoľné. Ak ich nezadáme získame obyčajné pole s prvkami."
   ]
  },
  {
   "cell_type": "code",
   "execution_count": 7,
   "metadata": {},
   "outputs": [
    {
     "data": {
      "text/plain": [
       "array([0, 1, 2, 3, 4, 5, 6, 7, 8, 9])"
      ]
     },
     "execution_count": 7,
     "metadata": {},
     "output_type": "execute_result"
    }
   ],
   "source": [
    "np.arange(10)"
   ]
  },
  {
   "cell_type": "markdown",
   "metadata": {},
   "source": [
    "Toto je vektor"
   ]
  },
  {
   "cell_type": "code",
   "execution_count": 8,
   "metadata": {},
   "outputs": [
    {
     "name": "stdout",
     "output_type": "stream",
     "text": [
      "[1 2 3]\n"
     ]
    }
   ],
   "source": [
    "vector = np.array([1,2,3])\n",
    "print(vector)"
   ]
  },
  {
   "cell_type": "markdown",
   "metadata": {},
   "source": [
    "Toto je matica. Matica má vždy 2 a viac rozmerov."
   ]
  },
  {
   "cell_type": "code",
   "execution_count": 9,
   "metadata": {},
   "outputs": [
    {
     "name": "stdout",
     "output_type": "stream",
     "text": [
      "[[1 2 3]\n",
      " [4 5 6]\n",
      " [7 8 9]]\n"
     ]
    }
   ],
   "source": [
    "matrix = np.array([\n",
    "    [1,2,3],\n",
    "    [4,5,6],\n",
    "    [7,8,9]\n",
    "])\n",
    "print(matrix)"
   ]
  },
  {
   "cell_type": "markdown",
   "metadata": {},
   "source": [
    "Atribút `shape` nám prezradí aké rozmery má matica. S týmto údajom budeme často pracovať. Prvé číslo je počet riadkov, druhé číslo je počet stĺpcov."
   ]
  },
  {
   "cell_type": "code",
   "execution_count": 10,
   "metadata": {},
   "outputs": [
    {
     "data": {
      "text/plain": [
       "(3,)"
      ]
     },
     "execution_count": 10,
     "metadata": {},
     "output_type": "execute_result"
    }
   ],
   "source": [
    "vector = np.array([1,2,3])\n",
    "vector.shape"
   ]
  },
  {
   "cell_type": "code",
   "execution_count": 11,
   "metadata": {},
   "outputs": [
    {
     "data": {
      "text/plain": [
       "(3, 3)"
      ]
     },
     "execution_count": 11,
     "metadata": {},
     "output_type": "execute_result"
    }
   ],
   "source": [
    "matrix = np.array([\n",
    "    [1,2,3],\n",
    "    [4,5,6],\n",
    "    [7,8,9]\n",
    "])\n",
    "\n",
    "matrix.shape"
   ]
  },
  {
   "cell_type": "markdown",
   "metadata": {},
   "source": [
    "Pomocou funkcie `reshape` vieme zmeniť tvar matice. Vznikne tým __nová__ matica, ktorá bude mať preusporiadané prvky do požadovaného tvaru.\n",
    "\n",
    "Ak matica (alebo vektor) nebude mať dosť prvkov aby sa vytvoril požadovaný tvar, skončí to chybou."
   ]
  },
  {
   "cell_type": "code",
   "execution_count": 12,
   "metadata": {},
   "outputs": [
    {
     "data": {
      "text/plain": [
       "array([0, 1, 2, 3, 4, 5, 6, 7, 8])"
      ]
     },
     "execution_count": 12,
     "metadata": {},
     "output_type": "execute_result"
    }
   ],
   "source": [
    "vector = np.arange(9)\n",
    "vector"
   ]
  },
  {
   "cell_type": "code",
   "execution_count": 13,
   "metadata": {},
   "outputs": [
    {
     "data": {
      "text/plain": [
       "array([[0, 1, 2],\n",
       "       [3, 4, 5],\n",
       "       [6, 7, 8]])"
      ]
     },
     "execution_count": 13,
     "metadata": {},
     "output_type": "execute_result"
    }
   ],
   "source": [
    "matrix = vector.reshape((3,3))\n",
    "matrix"
   ]
  },
  {
   "cell_type": "markdown",
   "metadata": {},
   "source": [
    "### Generátory\n",
    "generátory sú funkcie knižnice `numpy`, ktoré vedia generovať vektory / matice. Stačí zadať požadovaný tvar ako dvojicu (python typ `tuple`).\n",
    "\n",
    "Na [stránke dokumentácie](https://docs.scipy.org/doc/numpy/reference/routines.array-creation.html) vieš nájsť týchto generátorov plno."
   ]
  },
  {
   "cell_type": "code",
   "execution_count": 14,
   "metadata": {},
   "outputs": [
    {
     "data": {
      "text/plain": [
       "array([[0., 0., 0., 0., 0., 0., 0., 0., 0., 0.],\n",
       "       [0., 0., 0., 0., 0., 0., 0., 0., 0., 0.],\n",
       "       [0., 0., 0., 0., 0., 0., 0., 0., 0., 0.],\n",
       "       [0., 0., 0., 0., 0., 0., 0., 0., 0., 0.]])"
      ]
     },
     "execution_count": 14,
     "metadata": {},
     "output_type": "execute_result"
    }
   ],
   "source": [
    "np.zeros((4,10))"
   ]
  },
  {
   "cell_type": "code",
   "execution_count": 15,
   "metadata": {},
   "outputs": [
    {
     "data": {
      "text/plain": [
       "array([[1., 1., 1.],\n",
       "       [1., 1., 1.],\n",
       "       [1., 1., 1.]])"
      ]
     },
     "execution_count": 15,
     "metadata": {},
     "output_type": "execute_result"
    }
   ],
   "source": [
    "np.ones((3,3))"
   ]
  },
  {
   "cell_type": "code",
   "execution_count": 16,
   "metadata": {},
   "outputs": [
    {
     "data": {
      "text/plain": [
       "array([[-0.64372486,  0.51678571],\n",
       "       [ 0.16654791,  0.48080749],\n",
       "       [-0.70466404, -1.68676302]])"
      ]
     },
     "execution_count": 16,
     "metadata": {},
     "output_type": "execute_result"
    }
   ],
   "source": [
    "# randn generuje aj záporné čísla\n",
    "# rand generuje v intervale 0-1\n",
    "\n",
    "np.random.randn(3, 2)"
   ]
  },
  {
   "cell_type": "markdown",
   "metadata": {},
   "source": [
    "funkcia `linspace` ako už napovedá názov tejto funkcie, vie rozdeliď určený interval na definovaný počet dielikov. Toto sa veľmi hodí pri vykreslovaní funkcií. Je to jednoduchšie ako používať generátor `arange`"
   ]
  },
  {
   "cell_type": "code",
   "execution_count": 17,
   "metadata": {},
   "outputs": [
    {
     "data": {
      "text/plain": [
       "array([ 0.        ,  0.25641026,  0.51282051,  0.76923077,  1.02564103,\n",
       "        1.28205128,  1.53846154,  1.79487179,  2.05128205,  2.30769231,\n",
       "        2.56410256,  2.82051282,  3.07692308,  3.33333333,  3.58974359,\n",
       "        3.84615385,  4.1025641 ,  4.35897436,  4.61538462,  4.87179487,\n",
       "        5.12820513,  5.38461538,  5.64102564,  5.8974359 ,  6.15384615,\n",
       "        6.41025641,  6.66666667,  6.92307692,  7.17948718,  7.43589744,\n",
       "        7.69230769,  7.94871795,  8.20512821,  8.46153846,  8.71794872,\n",
       "        8.97435897,  9.23076923,  9.48717949,  9.74358974, 10.        ])"
      ]
     },
     "execution_count": 17,
     "metadata": {},
     "output_type": "execute_result"
    }
   ],
   "source": [
    "np.linspace(0, 10, 40)"
   ]
  },
  {
   "cell_type": "markdown",
   "metadata": {},
   "source": [
    "### Rozdeľovanie matice\n",
    "Niekedy potrebujeme maticu rozrezať a s tým nám pomôže funkcia `split`. Vieme rezať horizontálne `axis=0` alebo vertikálne `axis=1`.\n",
    "\n",
    "Rozdeľovať môžeme podla ľubovoľného stĺpca. To je druhý argument `[index stĺpca]`. Argument musí byť ako pole (pretože vieme definovať ľubovoľný počet rezov)"
   ]
  },
  {
   "cell_type": "code",
   "execution_count": 18,
   "metadata": {},
   "outputs": [],
   "source": [
    "a, b = np.split(matrix, [1], axis=1)"
   ]
  },
  {
   "cell_type": "code",
   "execution_count": 19,
   "metadata": {},
   "outputs": [
    {
     "data": {
      "text/plain": [
       "array([[0, 1, 2],\n",
       "       [3, 4, 5],\n",
       "       [6, 7, 8]])"
      ]
     },
     "execution_count": 19,
     "metadata": {},
     "output_type": "execute_result"
    }
   ],
   "source": [
    "matrix"
   ]
  },
  {
   "cell_type": "code",
   "execution_count": 20,
   "metadata": {},
   "outputs": [
    {
     "data": {
      "text/plain": [
       "array([[0],\n",
       "       [3],\n",
       "       [6]])"
      ]
     },
     "execution_count": 20,
     "metadata": {},
     "output_type": "execute_result"
    }
   ],
   "source": [
    "a"
   ]
  },
  {
   "cell_type": "code",
   "execution_count": 21,
   "metadata": {},
   "outputs": [
    {
     "data": {
      "text/plain": [
       "array([[1, 2],\n",
       "       [4, 5],\n",
       "       [7, 8]])"
      ]
     },
     "execution_count": 21,
     "metadata": {},
     "output_type": "execute_result"
    }
   ],
   "source": [
    "b"
   ]
  },
  {
   "cell_type": "markdown",
   "metadata": {},
   "source": [
    "#### vertical split `axis=1`\n",
    "```text\n",
    "\n",
    "                                  ^                                         \n",
    "      data                        |                   inputs       targets         \n",
    "[                        [        |                 [            [        \n",
    "  [ 1.1,  1979 ],          [ 1.1, | 1979 ],           [ 1.1 ],     [ 1979 ], \n",
    "  [ 1.3,  2498 ],          [ 1.3, | 2498 ],           [ 1.3 ],     [ 2498 ], \n",
    "  [ 1.5,  1857 ],          [ 1.5, | 1857 ],           [ 1.5 ],     [ 1857 ], \n",
    "  [ 2.0,  2295 ],          [ 2.0, | 2295 ],           [ 2.0 ],     [ 2295 ], \n",
    "  [ 2.2,  2020 ],          [ 2.2, | 2020 ],           [ 2.2 ],     [ 2020 ], \n",
    "  [ 2.9,  3288 ],          [ 2.9, | 3288 ],           [ 2.9 ],     [ 3288 ], \n",
    "  [ 3.0,  3554 ],   --->   [ 3.0, | 3554 ],  --->     [ 3.0 ],     [ 3554 ], \n",
    "  [ 3.2,  3122 ],          [ 3.2, | 3122 ],           [ 3.2 ],     [ 3122 ], \n",
    "  [ 3.2,  3879 ],          [ 3.2, | 3879 ],           [ 3.2 ],     [ 3879 ], \n",
    "  [ 3.7,  3330 ],          [ 3.7, | 3330 ],           [ 3.7 ],     [ 3330 ], \n",
    "  [ 3.9,  3786 ],          [ 3.9, | 3786 ],           [ 3.9 ],     [ 3786 ], \n",
    "  [ 4.0,  3224 ],          [ 4.0, | 3224 ],           [ 4.0 ],     [ 3224 ], \n",
    "  [ 4.0,  3312 ],          [ 4.0, | 3312 ],           [ 4.0 ],     [ 3312 ], \n",
    "  [ 4.1,  3322 ]           [ 4.1, | 3322 ]            [ 4.1 ],     [ 3322 ]  \n",
    "                 ]                |        ]                  ]             ]\n",
    "                                  |\n",
    "                                  v\n",
    "```"
   ]
  },
  {
   "cell_type": "markdown",
   "metadata": {},
   "source": [
    "#### horizontal split `axis=0`\n",
    "```text\n",
    "      data                                        [         \n",
    "[                        [                          [ 1.1, 1979 ], \n",
    "  [ 1.1,  1979 ],          [ 1.1, 1979 ],           [ 1.3, 2498 ],   data_1\n",
    "  [ 1.3,  2498 ],          [ 1.3, 2498 ],           [ 1.5, 1857 ] \n",
    "  [ 1.5,  1857 ],          [ 1.5, 1857 ],                         ]\n",
    "  [ 2.0,  2295 ],        <---------------->       \n",
    "  [ 2.2,  2020 ],          [ 2.0, 2295 ],        \n",
    "  [ 2.9,  3288 ],          [ 2.2, 2020 ],         [\n",
    "  [ 3.0,  3554 ],   --->   [ 2.9, 3288 ],  --->     [ 2.0, 2295 ], \n",
    "  [ 3.2,  3122 ],          [ 3.0, 3554 ],           [ 2.2, 2020 ], \n",
    "  [ 3.2,  3879 ],          [ 3.2, 3122 ],           [ 2.9, 3288 ], \n",
    "  [ 3.7,  3330 ],          [ 3.2, 3879 ],           [ 3.0, 3554 ], \n",
    "  [ 3.9,  3786 ],          [ 3.7, 3330 ],           [ 3.2, 3122 ],   data_2\n",
    "  [ 4.0,  3224 ],          [ 3.9, 3786 ],           [ 3.2, 3879 ], \n",
    "  [ 4.0,  3312 ],          [ 4.0, 3224 ],           [ 3.7, 3330 ], \n",
    "  [ 4.1,  3322 ]           [ 4.0, 3312 ],           [ 3.9, 3786 ], \n",
    "                 ]         [ 4.1, 3322 ]            [ 4.0, 3224 ], \n",
    "                                         ]          [ 4.0, 3312 ], \n",
    "                                                    [ 4.1, 3322 ]  \n",
    "                                                                  ]\n",
    "```"
   ]
  },
  {
   "cell_type": "markdown",
   "metadata": {},
   "source": [
    "### Násobenie matíc\n",
    "je trošku komplikovanejšie ako obyčajné násobenie. Nemôžeme násobiť ľubovoľné matice, ale len také, ktoré majú správny počet stĺpcov a riadkov.\n",
    "\n",
    "Taktiež záleží na poradí členov, to znamená, že násobenie matíc __nieje__ komutatívna operácia."
   ]
  },
  {
   "cell_type": "code",
   "execution_count": 22,
   "metadata": {},
   "outputs": [],
   "source": [
    "A = np.array([\n",
    "    [-4, 2, -1],\n",
    "    [4, 2, 6],\n",
    "    [-7, 5, 9]\n",
    "])\n",
    "\n",
    "B = np.array([\n",
    "    [9, 2, 3],\n",
    "    [2, 7, 6],\n",
    "    [7, 3, 8]\n",
    "])"
   ]
  },
  {
   "cell_type": "code",
   "execution_count": 23,
   "metadata": {},
   "outputs": [
    {
     "data": {
      "text/plain": [
       "array([[-39,   3,  -8],\n",
       "       [ 82,  40,  72],\n",
       "       [ 10,  48,  81]])"
      ]
     },
     "execution_count": 23,
     "metadata": {},
     "output_type": "execute_result"
    }
   ],
   "source": [
    "np.dot(A, B)"
   ]
  },
  {
   "cell_type": "markdown",
   "metadata": {},
   "source": [
    "## Základy práce s pandas\n",
    "pandas nám viem veľmi pomôcť s načítavaním dát z disku. Hlavne CSV súbory\n",
    "\n",
    "Príkazom `read_csv` vieme načítať súbor a nechať si zobrazovať rôzne štatistiky"
   ]
  },
  {
   "cell_type": "code",
   "execution_count": 24,
   "metadata": {},
   "outputs": [
    {
     "data": {
      "text/html": [
       "<div>\n",
       "<style scoped>\n",
       "    .dataframe tbody tr th:only-of-type {\n",
       "        vertical-align: middle;\n",
       "    }\n",
       "\n",
       "    .dataframe tbody tr th {\n",
       "        vertical-align: top;\n",
       "    }\n",
       "\n",
       "    .dataframe thead th {\n",
       "        text-align: right;\n",
       "    }\n",
       "</style>\n",
       "<table border=\"1\" class=\"dataframe\">\n",
       "  <thead>\n",
       "    <tr style=\"text-align: right;\">\n",
       "      <th></th>\n",
       "      <th>YearsExperience</th>\n",
       "      <th>Salary</th>\n",
       "    </tr>\n",
       "  </thead>\n",
       "  <tbody>\n",
       "    <tr>\n",
       "      <td>count</td>\n",
       "      <td>30.000000</td>\n",
       "      <td>30.000000</td>\n",
       "    </tr>\n",
       "    <tr>\n",
       "      <td>mean</td>\n",
       "      <td>5.313333</td>\n",
       "      <td>5070.933333</td>\n",
       "    </tr>\n",
       "    <tr>\n",
       "      <td>std</td>\n",
       "      <td>2.837888</td>\n",
       "      <td>2070.992764</td>\n",
       "    </tr>\n",
       "    <tr>\n",
       "      <td>min</td>\n",
       "      <td>1.100000</td>\n",
       "      <td>1857.000000</td>\n",
       "    </tr>\n",
       "    <tr>\n",
       "      <td>25%</td>\n",
       "      <td>3.200000</td>\n",
       "      <td>3386.000000</td>\n",
       "    </tr>\n",
       "    <tr>\n",
       "      <td>50%</td>\n",
       "      <td>4.700000</td>\n",
       "      <td>4828.000000</td>\n",
       "    </tr>\n",
       "    <tr>\n",
       "      <td>75%</td>\n",
       "      <td>7.700000</td>\n",
       "      <td>6933.000000</td>\n",
       "    </tr>\n",
       "    <tr>\n",
       "      <td>max</td>\n",
       "      <td>10.500000</td>\n",
       "      <td>8266.000000</td>\n",
       "    </tr>\n",
       "  </tbody>\n",
       "</table>\n",
       "</div>"
      ],
      "text/plain": [
       "       YearsExperience       Salary\n",
       "count        30.000000    30.000000\n",
       "mean          5.313333  5070.933333\n",
       "std           2.837888  2070.992764\n",
       "min           1.100000  1857.000000\n",
       "25%           3.200000  3386.000000\n",
       "50%           4.700000  4828.000000\n",
       "75%           7.700000  6933.000000\n",
       "max          10.500000  8266.000000"
      ]
     },
     "execution_count": 24,
     "metadata": {},
     "output_type": "execute_result"
    }
   ],
   "source": [
    "data = pd.read_csv(\"dataset/salary_dataset.csv\")\n",
    "data.describe()"
   ]
  },
  {
   "cell_type": "markdown",
   "metadata": {},
   "source": [
    "Niekedy je užitočné vypísať `n` prvých alebo posledný prvkov. Na to používame funkcie `head` a `tail` tak ako poznáme z linuxových príkazov."
   ]
  },
  {
   "cell_type": "code",
   "execution_count": 25,
   "metadata": {},
   "outputs": [
    {
     "data": {
      "text/html": [
       "<div>\n",
       "<style scoped>\n",
       "    .dataframe tbody tr th:only-of-type {\n",
       "        vertical-align: middle;\n",
       "    }\n",
       "\n",
       "    .dataframe tbody tr th {\n",
       "        vertical-align: top;\n",
       "    }\n",
       "\n",
       "    .dataframe thead th {\n",
       "        text-align: right;\n",
       "    }\n",
       "</style>\n",
       "<table border=\"1\" class=\"dataframe\">\n",
       "  <thead>\n",
       "    <tr style=\"text-align: right;\">\n",
       "      <th></th>\n",
       "      <th>YearsExperience</th>\n",
       "      <th>Salary</th>\n",
       "    </tr>\n",
       "  </thead>\n",
       "  <tbody>\n",
       "    <tr>\n",
       "      <td>0</td>\n",
       "      <td>1.1</td>\n",
       "      <td>1979</td>\n",
       "    </tr>\n",
       "    <tr>\n",
       "      <td>1</td>\n",
       "      <td>1.3</td>\n",
       "      <td>2498</td>\n",
       "    </tr>\n",
       "    <tr>\n",
       "      <td>2</td>\n",
       "      <td>1.5</td>\n",
       "      <td>1857</td>\n",
       "    </tr>\n",
       "    <tr>\n",
       "      <td>3</td>\n",
       "      <td>2.0</td>\n",
       "      <td>2295</td>\n",
       "    </tr>\n",
       "    <tr>\n",
       "      <td>4</td>\n",
       "      <td>2.2</td>\n",
       "      <td>2020</td>\n",
       "    </tr>\n",
       "    <tr>\n",
       "      <td>5</td>\n",
       "      <td>2.9</td>\n",
       "      <td>3288</td>\n",
       "    </tr>\n",
       "    <tr>\n",
       "      <td>6</td>\n",
       "      <td>3.0</td>\n",
       "      <td>3554</td>\n",
       "    </tr>\n",
       "    <tr>\n",
       "      <td>7</td>\n",
       "      <td>3.2</td>\n",
       "      <td>3122</td>\n",
       "    </tr>\n",
       "    <tr>\n",
       "      <td>8</td>\n",
       "      <td>3.2</td>\n",
       "      <td>3879</td>\n",
       "    </tr>\n",
       "    <tr>\n",
       "      <td>9</td>\n",
       "      <td>3.7</td>\n",
       "      <td>3330</td>\n",
       "    </tr>\n",
       "  </tbody>\n",
       "</table>\n",
       "</div>"
      ],
      "text/plain": [
       "   YearsExperience  Salary\n",
       "0              1.1    1979\n",
       "1              1.3    2498\n",
       "2              1.5    1857\n",
       "3              2.0    2295\n",
       "4              2.2    2020\n",
       "5              2.9    3288\n",
       "6              3.0    3554\n",
       "7              3.2    3122\n",
       "8              3.2    3879\n",
       "9              3.7    3330"
      ]
     },
     "execution_count": 25,
     "metadata": {},
     "output_type": "execute_result"
    }
   ],
   "source": [
    "data.head(10)"
   ]
  },
  {
   "cell_type": "code",
   "execution_count": 26,
   "metadata": {},
   "outputs": [
    {
     "data": {
      "text/html": [
       "<div>\n",
       "<style scoped>\n",
       "    .dataframe tbody tr th:only-of-type {\n",
       "        vertical-align: middle;\n",
       "    }\n",
       "\n",
       "    .dataframe tbody tr th {\n",
       "        vertical-align: top;\n",
       "    }\n",
       "\n",
       "    .dataframe thead th {\n",
       "        text-align: right;\n",
       "    }\n",
       "</style>\n",
       "<table border=\"1\" class=\"dataframe\">\n",
       "  <thead>\n",
       "    <tr style=\"text-align: right;\">\n",
       "      <th></th>\n",
       "      <th>YearsExperience</th>\n",
       "      <th>Salary</th>\n",
       "    </tr>\n",
       "  </thead>\n",
       "  <tbody>\n",
       "    <tr>\n",
       "      <td>27</td>\n",
       "      <td>9.6</td>\n",
       "      <td>7528</td>\n",
       "    </tr>\n",
       "    <tr>\n",
       "      <td>28</td>\n",
       "      <td>10.3</td>\n",
       "      <td>8266</td>\n",
       "    </tr>\n",
       "    <tr>\n",
       "      <td>29</td>\n",
       "      <td>10.5</td>\n",
       "      <td>8227</td>\n",
       "    </tr>\n",
       "  </tbody>\n",
       "</table>\n",
       "</div>"
      ],
      "text/plain": [
       "    YearsExperience  Salary\n",
       "27              9.6    7528\n",
       "28             10.3    8266\n",
       "29             10.5    8227"
      ]
     },
     "execution_count": 26,
     "metadata": {},
     "output_type": "execute_result"
    }
   ],
   "source": [
    "data.tail(3)"
   ]
  },
  {
   "cell_type": "markdown",
   "metadata": {},
   "source": [
    "funkcia `sample` vyberá prvky náhodne. Veľmi užitočné ak chceme získať predstavu o dátach a máme ich usporiadané (ako v tomto príklade)"
   ]
  },
  {
   "cell_type": "code",
   "execution_count": 27,
   "metadata": {},
   "outputs": [
    {
     "data": {
      "text/html": [
       "<div>\n",
       "<style scoped>\n",
       "    .dataframe tbody tr th:only-of-type {\n",
       "        vertical-align: middle;\n",
       "    }\n",
       "\n",
       "    .dataframe tbody tr th {\n",
       "        vertical-align: top;\n",
       "    }\n",
       "\n",
       "    .dataframe thead th {\n",
       "        text-align: right;\n",
       "    }\n",
       "</style>\n",
       "<table border=\"1\" class=\"dataframe\">\n",
       "  <thead>\n",
       "    <tr style=\"text-align: right;\">\n",
       "      <th></th>\n",
       "      <th>YearsExperience</th>\n",
       "      <th>Salary</th>\n",
       "    </tr>\n",
       "  </thead>\n",
       "  <tbody>\n",
       "    <tr>\n",
       "      <td>22</td>\n",
       "      <td>7.9</td>\n",
       "      <td>6670</td>\n",
       "    </tr>\n",
       "    <tr>\n",
       "      <td>16</td>\n",
       "      <td>5.1</td>\n",
       "      <td>4699</td>\n",
       "    </tr>\n",
       "    <tr>\n",
       "      <td>2</td>\n",
       "      <td>1.5</td>\n",
       "      <td>1857</td>\n",
       "    </tr>\n",
       "    <tr>\n",
       "      <td>0</td>\n",
       "      <td>1.1</td>\n",
       "      <td>1979</td>\n",
       "    </tr>\n",
       "    <tr>\n",
       "      <td>15</td>\n",
       "      <td>4.9</td>\n",
       "      <td>4844</td>\n",
       "    </tr>\n",
       "    <tr>\n",
       "      <td>6</td>\n",
       "      <td>3.0</td>\n",
       "      <td>3554</td>\n",
       "    </tr>\n",
       "    <tr>\n",
       "      <td>3</td>\n",
       "      <td>2.0</td>\n",
       "      <td>2295</td>\n",
       "    </tr>\n",
       "    <tr>\n",
       "      <td>4</td>\n",
       "      <td>2.2</td>\n",
       "      <td>2020</td>\n",
       "    </tr>\n",
       "    <tr>\n",
       "      <td>11</td>\n",
       "      <td>4.0</td>\n",
       "      <td>3924</td>\n",
       "    </tr>\n",
       "    <tr>\n",
       "      <td>25</td>\n",
       "      <td>9.0</td>\n",
       "      <td>6994</td>\n",
       "    </tr>\n",
       "  </tbody>\n",
       "</table>\n",
       "</div>"
      ],
      "text/plain": [
       "    YearsExperience  Salary\n",
       "22              7.9    6670\n",
       "16              5.1    4699\n",
       "2               1.5    1857\n",
       "0               1.1    1979\n",
       "15              4.9    4844\n",
       "6               3.0    3554\n",
       "3               2.0    2295\n",
       "4               2.2    2020\n",
       "11              4.0    3924\n",
       "25              9.0    6994"
      ]
     },
     "execution_count": 27,
     "metadata": {},
     "output_type": "execute_result"
    }
   ],
   "source": [
    "data.sample(10)"
   ]
  },
  {
   "cell_type": "markdown",
   "metadata": {},
   "source": [
    "## Ručne stručne\n",
    "Vizualizujeme si dáta a vysvetlíme si o čo ide v lineárnej regresií.\n",
    "\n",
    "Dáta už máme načítane a preto postupujeme s ich úpravou. Rozdelíme si dáta na vstupné a výstupné premenné."
   ]
  },
  {
   "cell_type": "code",
   "execution_count": 28,
   "metadata": {},
   "outputs": [],
   "source": [
    "inputs, targets = np.split(data, [1], axis=1)"
   ]
  },
  {
   "cell_type": "code",
   "execution_count": 29,
   "metadata": {},
   "outputs": [
    {
     "data": {
      "text/html": [
       "<div>\n",
       "<style scoped>\n",
       "    .dataframe tbody tr th:only-of-type {\n",
       "        vertical-align: middle;\n",
       "    }\n",
       "\n",
       "    .dataframe tbody tr th {\n",
       "        vertical-align: top;\n",
       "    }\n",
       "\n",
       "    .dataframe thead th {\n",
       "        text-align: right;\n",
       "    }\n",
       "</style>\n",
       "<table border=\"1\" class=\"dataframe\">\n",
       "  <thead>\n",
       "    <tr style=\"text-align: right;\">\n",
       "      <th></th>\n",
       "      <th>Salary</th>\n",
       "    </tr>\n",
       "  </thead>\n",
       "  <tbody>\n",
       "    <tr>\n",
       "      <td>0</td>\n",
       "      <td>1979.0</td>\n",
       "    </tr>\n",
       "    <tr>\n",
       "      <td>1</td>\n",
       "      <td>2498.0</td>\n",
       "    </tr>\n",
       "    <tr>\n",
       "      <td>2</td>\n",
       "      <td>1857.0</td>\n",
       "    </tr>\n",
       "    <tr>\n",
       "      <td>3</td>\n",
       "      <td>2295.0</td>\n",
       "    </tr>\n",
       "    <tr>\n",
       "      <td>4</td>\n",
       "      <td>2020.0</td>\n",
       "    </tr>\n",
       "  </tbody>\n",
       "</table>\n",
       "</div>"
      ],
      "text/plain": [
       "   Salary\n",
       "0  1979.0\n",
       "1  2498.0\n",
       "2  1857.0\n",
       "3  2295.0\n",
       "4  2020.0"
      ]
     },
     "execution_count": 29,
     "metadata": {},
     "output_type": "execute_result"
    }
   ],
   "source": [
    "targets.head()"
   ]
  },
  {
   "cell_type": "markdown",
   "metadata": {},
   "source": [
    "### Matplotlib\n",
    "prvé použitie matplotlib na vizualizáciu dát.\n",
    "\n",
    "`plt.figure()` vytvorí novú figúru, do ktorej môžeme kresliť grafy a upravovať ju podla našich predstáv.\n",
    "\n",
    "`scatter` je funkcia, ktorá vykreslí naše dáta ako bodky na grafe.\n",
    "\n",
    "Rôznymi inými funkciami vieme upravovať vzhľad grafu -> `xlabel`, `ylabel`, `title`...\n",
    "\n",
    "Väčší tutorial o `matplotlib` som spravil v separátnom videu."
   ]
  },
  {
   "cell_type": "code",
   "execution_count": 30,
   "metadata": {},
   "outputs": [
    {
     "data": {
      "image/png": "[encoded data removed]",
      "text/plain": [
       "<Figure size 432x288 with 1 Axes>"
      ]
     },
     "metadata": {
      "needs_background": "light"
     },
     "output_type": "display_data"
    }
   ],
   "source": [
    "fig1 = plt.figure()\n",
    "\n",
    "plt.scatter(inputs, targets)\n",
    "\n",
    "plt.ylabel(\"salary\")\n",
    "plt.xlabel(\"year\")\n",
    "\n",
    "plt.show()"
   ]
  },
  {
   "cell_type": "markdown",
   "metadata": {},
   "source": [
    "Nieje funkcia ako funkcia. Matematické ponímanie funkcií je trošku iné ako pythonovské, ale to nevadí. Klasickú definíciu funkcie si vieme naprogramovať v Pythone veľmi jednoducho"
   ]
  },
  {
   "cell_type": "code",
   "execution_count": 31,
   "metadata": {},
   "outputs": [],
   "source": [
    "def F(x):\n",
    "    y = a * x + c\n",
    "    return y"
   ]
  },
  {
   "cell_type": "code",
   "execution_count": 32,
   "metadata": {},
   "outputs": [
    {
     "data": {
      "image/png": "[encoded data removed]",
      "text/plain": [
       "<Figure size 432x288 with 1 Axes>"
      ]
     },
     "metadata": {
      "needs_background": "light"
     },
     "output_type": "display_data"
    }
   ],
   "source": [
    "fig2 = plt.figure()\n",
    "\n",
    "x = np.linspace(0, 10, 100)\n",
    "\n",
    "# experimentuj s týmito hodnotami\n",
    "a = 0.1\n",
    "c = 5\n",
    "\n",
    "def linear(x):\n",
    "    return a*x + c\n",
    "\n",
    "plt.plot(x, linear(x))\n",
    "\n",
    "plt.ylim(bottom=-1, top=11)\n",
    "plt.xlim(left=-1, right=11)\n",
    "\n",
    "plt.grid()\n",
    "\n",
    "plt.show()"
   ]
  },
  {
   "cell_type": "markdown",
   "metadata": {},
   "source": [
    "Spojenie grafu funkcie a dát vieme spraviť jednoducho. Stačí do jednej figúry vykresliť `scatter` plot aj `plot` funkcie."
   ]
  },
  {
   "cell_type": "code",
   "execution_count": 33,
   "metadata": {},
   "outputs": [
    {
     "data": {
      "image/png": "[encoded data removed]",
      "text/plain": [
       "<Figure size 432x288 with 1 Axes>"
      ]
     },
     "metadata": {
      "needs_background": "light"
     },
     "output_type": "display_data"
    }
   ],
   "source": [
    "fig3 = plt.figure()\n",
    "\n",
    "plt.scatter(inputs, targets)\n",
    "plt.xlabel(\"years\")\n",
    "plt.ylabel(\"salary\")\n",
    "\n",
    "model = (740, 1100)\n",
    "\n",
    "def F(x):\n",
    "    a,c = model\n",
    "    return a*x + c\n",
    "\n",
    "x = np.linspace(1, 11, 10)\n",
    "plt.plot(x, F(x), color=\"r\")\n",
    "\n",
    "plt.show()"
   ]
  },
  {
   "cell_type": "code",
   "execution_count": 34,
   "metadata": {},
   "outputs": [],
   "source": [
    "# našli sme model, ktorý fituje naše dáta\n",
    "model = (740, 1100)"
   ]
  },
  {
   "cell_type": "code",
   "execution_count": 35,
   "metadata": {},
   "outputs": [
    {
     "data": {
      "text/plain": [
       "3320"
      ]
     },
     "execution_count": 35,
     "metadata": {},
     "output_type": "execute_result"
    }
   ],
   "source": [
    "F(3)"
   ]
  },
  {
   "cell_type": "markdown",
   "metadata": {},
   "source": [
    "## PyTorch a Gradient Descent\n",
    "Knižnica pytorch používa základný dátový typ zvaný `tensor`. Je to niečo podobné ako `numpy` matica. Aj sa to tak správa, ale na pozadí sa dejú ešte veci navyše (autograd)."
   ]
  },
  {
   "cell_type": "code",
   "execution_count": 36,
   "metadata": {},
   "outputs": [],
   "source": [
    "foo = torch.Tensor(np.array([1, 2, 3]))"
   ]
  },
  {
   "cell_type": "code",
   "execution_count": 37,
   "metadata": {},
   "outputs": [
    {
     "data": {
      "text/plain": [
       "tensor([1., 2., 3.])"
      ]
     },
     "execution_count": 37,
     "metadata": {},
     "output_type": "execute_result"
    }
   ],
   "source": [
    "foo"
   ]
  },
  {
   "cell_type": "code",
   "execution_count": 38,
   "metadata": {},
   "outputs": [],
   "source": [
    "# vstupy a výstupy prekonvertujeme na Tensor\n",
    "inputs = torch.Tensor(inputs.to_numpy())\n",
    "targets = torch.Tensor(targets.to_numpy())"
   ]
  },
  {
   "cell_type": "code",
   "execution_count": 39,
   "metadata": {},
   "outputs": [
    {
     "data": {
      "text/plain": [
       "tensor([[ 1.1000],\n",
       "        [ 1.3000],\n",
       "        [ 1.5000],\n",
       "        [ 2.0000],\n",
       "        [ 2.2000],\n",
       "        [ 2.9000],\n",
       "        [ 3.0000],\n",
       "        [ 3.2000],\n",
       "        [ 3.2000],\n",
       "        [ 3.7000],\n",
       "        [ 3.9000],\n",
       "        [ 4.0000],\n",
       "        [ 4.0000],\n",
       "        [ 4.1000],\n",
       "        [ 4.5000],\n",
       "        [ 4.9000],\n",
       "        [ 5.1000],\n",
       "        [ 5.3000],\n",
       "        [ 5.9000],\n",
       "        [ 6.0000],\n",
       "        [ 6.8000],\n",
       "        [ 7.1000],\n",
       "        [ 7.9000],\n",
       "        [ 8.2000],\n",
       "        [ 8.7000],\n",
       "        [ 9.0000],\n",
       "        [ 9.5000],\n",
       "        [ 9.6000],\n",
       "        [10.3000],\n",
       "        [10.5000]])"
      ]
     },
     "execution_count": 39,
     "metadata": {},
     "output_type": "execute_result"
    }
   ],
   "source": [
    "inputs"
   ]
  },
  {
   "cell_type": "markdown",
   "metadata": {},
   "source": [
    "Vytvoríme __váhy__ (weights) a __bias__ (bias)."
   ]
  },
  {
   "cell_type": "code",
   "execution_count": 40,
   "metadata": {},
   "outputs": [
    {
     "name": "stdout",
     "output_type": "stream",
     "text": [
      "tensor([0.1255], requires_grad=True)\n",
      "tensor([0.4383], requires_grad=True)\n"
     ]
    }
   ],
   "source": [
    "w = torch.rand(1, requires_grad=True)\n",
    "b = torch.rand(1, requires_grad=True)\n",
    "\n",
    "print(w)\n",
    "print(b)"
   ]
  },
  {
   "cell_type": "code",
   "execution_count": 41,
   "metadata": {},
   "outputs": [],
   "source": [
    "# dáme si to do akože \"modelu\"\n",
    "model1 = (w, b)  # <- python tuple"
   ]
  },
  {
   "cell_type": "markdown",
   "metadata": {},
   "source": [
    "Funkcia na použitie modelu. Model dávame ako argument a preto môžeme jednoducho skúšať viacero modelov\n"
   ]
  },
  {
   "cell_type": "code",
   "execution_count": 42,
   "metadata": {},
   "outputs": [],
   "source": [
    "def use_model(x, model):\n",
    "    w, b = model\n",
    "    return x * w + b"
   ]
  },
  {
   "cell_type": "code",
   "execution_count": 43,
   "metadata": {},
   "outputs": [
    {
     "name": "stdout",
     "output_type": "stream",
     "text": [
      "tensor([[0.5763],\n",
      "        [0.6013],\n",
      "        [0.6264],\n",
      "        [0.6892],\n",
      "        [0.7143],\n",
      "        [0.8021],\n",
      "        [0.8146],\n",
      "        [0.8397],\n",
      "        [0.8397],\n",
      "        [0.9025],\n",
      "        [0.9275],\n",
      "        [0.9401],\n",
      "        [0.9401],\n",
      "        [0.9526],\n",
      "        [1.0028],\n",
      "        [1.0530],\n",
      "        [1.0781],\n",
      "        [1.1032],\n",
      "        [1.1785],\n",
      "        [1.1910],\n",
      "        [1.2914],\n",
      "        [1.3290],\n",
      "        [1.4294],\n",
      "        [1.4670],\n",
      "        [1.5298],\n",
      "        [1.5674],\n",
      "        [1.6301],\n",
      "        [1.6427],\n",
      "        [1.7305],\n",
      "        [1.7556]], grad_fn=<AddBackward0>)\n"
     ]
    }
   ],
   "source": [
    "preds = use_model(inputs, model1)\n",
    "print(preds)"
   ]
  },
  {
   "cell_type": "markdown",
   "metadata": {},
   "source": [
    "Funkcia na vykreslenie dáta a modelu. Veľmi užitočné pri skúmání ako náš model fituje dáta."
   ]
  },
  {
   "cell_type": "code",
   "execution_count": 44,
   "metadata": {},
   "outputs": [],
   "source": [
    "def plot_model(inputs, targets, model):\n",
    "    fig = plt.figure()\n",
    "    plt.scatter(inputs, targets)\n",
    "    \n",
    "    x = torch.from_numpy(np.linspace(1, 11, 2))\n",
    "    y = use_model(x, model).detach()\n",
    "    plt.plot(x, y, color=\"r\")\n",
    "    plt.show()\n",
    "    return fig"
   ]
  },
  {
   "cell_type": "code",
   "execution_count": 45,
   "metadata": {},
   "outputs": [
    {
     "data": {
      "image/png": "[encoded data removed]",
      "text/plain": [
       "<Figure size 432x288 with 1 Axes>"
      ]
     },
     "metadata": {
      "needs_background": "light"
     },
     "output_type": "display_data"
    }
   ],
   "source": [
    "fig1 = plot_model(inputs, targets, model1)"
   ]
  },
  {
   "cell_type": "markdown",
   "metadata": {},
   "source": [
    "### Chybová - loss funkcia\n",
    "V našom prípade optimizačná funkcia bude zvaná `loss` funkcia. Na výpočet `loss` funkcie použijeme __M__ean __S__quare __E__rror (MSE)"
   ]
  },
  {
   "cell_type": "code",
   "execution_count": 46,
   "metadata": {},
   "outputs": [],
   "source": [
    "def MSE(t1, t2):\n",
    "    diff = t1 - t2\n",
    "    sum_all = torch.sum(diff*diff)\n",
    "    avarage_diff = sum_all / diff.numel()\n",
    "    return avarage_diff"
   ]
  },
  {
   "cell_type": "code",
   "execution_count": 47,
   "metadata": {},
   "outputs": [
    {
     "name": "stdout",
     "output_type": "stream",
     "text": [
      "tensor(29847834., grad_fn=<DivBackward0>)\n"
     ]
    }
   ],
   "source": [
    "loss = MSE(preds, targets)\n",
    "print(loss)"
   ]
  },
  {
   "cell_type": "markdown",
   "metadata": {},
   "source": [
    "Výpočet gradiendu (derivácie) v tomto prípade bude otázka volania funkcie `backward`. Táto automagicky zabezpečí, že budeme mať vypočítané gradienty (smer v ktorom sa musíme posunúť aby sme znížili chybovú funkciu) na premenných `w` a `b`"
   ]
  },
  {
   "cell_type": "code",
   "execution_count": 48,
   "metadata": {},
   "outputs": [],
   "source": [
    "loss.backward()"
   ]
  },
  {
   "cell_type": "code",
   "execution_count": 49,
   "metadata": {},
   "outputs": [
    {
     "data": {
      "text/plain": [
       "torch.Tensor"
      ]
     },
     "execution_count": 49,
     "metadata": {},
     "output_type": "execute_result"
    }
   ],
   "source": [
    "type(loss)"
   ]
  },
  {
   "cell_type": "code",
   "execution_count": 50,
   "metadata": {},
   "outputs": [
    {
     "name": "stdout",
     "output_type": "stream",
     "text": [
      "tensor([-64831.2344])\n",
      "tensor([-10139.6562])\n"
     ]
    }
   ],
   "source": [
    "w, b = model1\n",
    "print(w.grad)\n",
    "print(b.grad)"
   ]
  },
  {
   "cell_type": "markdown",
   "metadata": {},
   "source": [
    "### Gradient descent\n",
    "Vyskúšajme najprv postupne ručne počítať gradient descent a potom to dáme dokopy do celkovej funkcie"
   ]
  },
  {
   "cell_type": "code",
   "execution_count": 51,
   "metadata": {},
   "outputs": [],
   "source": [
    "preds = use_model(inputs, model1)"
   ]
  },
  {
   "cell_type": "code",
   "execution_count": 52,
   "metadata": {},
   "outputs": [],
   "source": [
    "loss = MSE(preds, targets)"
   ]
  },
  {
   "cell_type": "code",
   "execution_count": 53,
   "metadata": {},
   "outputs": [],
   "source": [
    "loss.backward()"
   ]
  },
  {
   "cell_type": "code",
   "execution_count": 54,
   "metadata": {},
   "outputs": [],
   "source": [
    "LEARNING_RATE = 1e-5\n",
    "with torch.no_grad():\n",
    "    w, b = model1\n",
    "    w -= w.grad * LEARNING_RATE\n",
    "    b -= b.grad * LEARNING_RATE\n",
    "    w.grad.zero_()\n",
    "    b.grad.zero_()"
   ]
  },
  {
   "cell_type": "code",
   "execution_count": 55,
   "metadata": {},
   "outputs": [
    {
     "name": "stdout",
     "output_type": "stream",
     "text": [
      "tensor(29761774., grad_fn=<DivBackward0>)\n"
     ]
    }
   ],
   "source": [
    "preds = use_model(inputs, model1)\n",
    "loss = MSE(preds, targets)\n",
    "print(loss)"
   ]
  },
  {
   "cell_type": "markdown",
   "metadata": {},
   "source": [
    "Algoritmus teda pozostáva z pár krokov:\n",
    " 1. vygeneruj predikcie - funkcia `model`\n",
    " 2. vypočítaj chybu -  funkcia `MSE`\n",
    " 3. vypočítaj gradienty podla váhy a biasu - `backward`\n",
    " 4. uprav váhy a bias tak že odpočítaš malú čast z gradientu\n",
    " 5. vymaž gradienty späť na 0\n",
    " 6. opakuj"
   ]
  },
  {
   "cell_type": "code",
   "execution_count": 56,
   "metadata": {},
   "outputs": [],
   "source": [
    "def train(inputs, targets, model, epochs, learning_rate):\n",
    "    for i in range(epochs):\n",
    "        preds = use_model(inputs, model)\n",
    "        loss = MSE(preds, targets)\n",
    "        loss.backward()\n",
    "        with torch.no_grad():\n",
    "            w, b = model\n",
    "            w -= w.grad * learning_rate\n",
    "            b -= b.grad * learning_rate\n",
    "            w.grad.zero_()\n",
    "            b.grad.zero_()\n",
    "\n",
    "# pomocná funkcia na vytvorenie náhodného modelu\n",
    "def create_random_model():\n",
    "    w = torch.rand(1, requires_grad=True)\n",
    "    b = torch.rand(1, requires_grad=True)\n",
    "    return (w, b)"
   ]
  },
  {
   "cell_type": "code",
   "execution_count": 57,
   "metadata": {},
   "outputs": [],
   "source": [
    "model2 = create_random_model()\n",
    "train(inputs, targets, model2, 15000, 1e-5)"
   ]
  },
  {
   "cell_type": "code",
   "execution_count": 58,
   "metadata": {},
   "outputs": [
    {
     "name": "stdout",
     "output_type": "stream",
     "text": [
      "tensor(564543.2500, grad_fn=<DivBackward0>)\n"
     ]
    }
   ],
   "source": [
    "preds = use_model(inputs, model2)\n",
    "loss = MSE(preds, targets)\n",
    "print(loss)"
   ]
  },
  {
   "cell_type": "code",
   "execution_count": 59,
   "metadata": {},
   "outputs": [
    {
     "data": {
      "image/png": "[encoded data removed]",
      "text/plain": [
       "<Figure size 432x288 with 1 Axes>"
      ]
     },
     "metadata": {
      "needs_background": "light"
     },
     "output_type": "display_data"
    }
   ],
   "source": [
    "fig2 = plot_model(inputs, targets, model2)"
   ]
  },
  {
   "cell_type": "markdown",
   "metadata": {},
   "source": [
    "### Vizualizácia priebehu chyby\n",
    "Táto vizuálizácia nám vie kadečo napovedať. Hlavne to, či chyba klesala až sa dostala k nejakej konvengencií (našla optimum a už neklesala)\n",
    "\n",
    "Doplníme funkciu `train` o pár drobností"
   ]
  },
  {
   "cell_type": "code",
   "execution_count": 60,
   "metadata": {},
   "outputs": [],
   "source": [
    "def train(inputs, targets, model, epochs, learning_rate=1e-5):\n",
    "    losses = []\n",
    "    for i in range(epochs):\n",
    "        preds = use_model(inputs, model)\n",
    "        loss = MSE(preds, targets)\n",
    "        loss.backward()\n",
    "        loss_value = loss.item()\n",
    "        losses.append(loss_value)\n",
    "        with torch.no_grad():\n",
    "            w, b = model\n",
    "            w -= w.grad * learning_rate\n",
    "            b -= b.grad * learning_rate\n",
    "            w.grad.zero_()\n",
    "            b.grad.zero_()\n",
    "    return losses"
   ]
  },
  {
   "cell_type": "code",
   "execution_count": 61,
   "metadata": {},
   "outputs": [],
   "source": [
    "model3 = create_random_model()\n",
    "losses = train(inputs, targets, model3, 15000)"
   ]
  },
  {
   "cell_type": "code",
   "execution_count": 62,
   "metadata": {},
   "outputs": [
    {
     "name": "stdout",
     "output_type": "stream",
     "text": [
      "15000\n"
     ]
    }
   ],
   "source": [
    "print(len(losses))"
   ]
  },
  {
   "cell_type": "code",
   "execution_count": 63,
   "metadata": {},
   "outputs": [
    {
     "data": {
      "text/plain": [
       "[29808696.0,\n",
       " 29765708.0,\n",
       " 29722788.0,\n",
       " 29679930.0,\n",
       " 29637132.0,\n",
       " 29594402.0,\n",
       " 29551734.0,\n",
       " 29509124.0,\n",
       " 29466578.0]"
      ]
     },
     "execution_count": 63,
     "metadata": {},
     "output_type": "execute_result"
    }
   ],
   "source": [
    "losses[1:10]"
   ]
  },
  {
   "cell_type": "markdown",
   "metadata": {},
   "source": [
    "Pozmeníme aj funkciu na vykreslenie modelu. Použijeme funkciu `subplots` na vytvorenie viacerých častí jedného grafu -> tzv. podgrafy."
   ]
  },
  {
   "cell_type": "code",
   "execution_count": 64,
   "metadata": {},
   "outputs": [],
   "source": [
    "def plot_model(inputs, targets, model, losses):\n",
    "    fig, (ax1, ax2) = plt.subplots(2, 1, figsize=(10,10))\n",
    "    \n",
    "    ax1.scatter(inputs, targets)\n",
    "    x = torch.from_numpy(np.linspace(1, 11, 2))\n",
    "    y = use_model(x, model).detach()\n",
    "    ax1.plot(x, y, color=\"r\")\n",
    "    ax1.set_xlabel(\"years of practice\")\n",
    "    ax1.set_ylabel(\"salary\")\n",
    "    \n",
    "    ax2.plot(losses, color=\"g\")\n",
    "    ax2.set_ylim(bottom=0)\n",
    "    ax2.set_xlabel(\"epochs\")\n",
    "    ax2.set_ylabel(\"loss\")\n",
    "    \n",
    "    plt.show()\n",
    "    return fig"
   ]
  },
  {
   "cell_type": "code",
   "execution_count": 65,
   "metadata": {},
   "outputs": [
    {
     "data": {
      "image/png": "[encoded data removed]",
      "text/plain": [
       "<Figure size 720x720 with 2 Axes>"
      ]
     },
     "metadata": {
      "needs_background": "light"
     },
     "output_type": "display_data"
    }
   ],
   "source": [
    "fig3 = plot_model(inputs, targets, model3, losses)"
   ]
  },
  {
   "cell_type": "markdown",
   "metadata": {},
   "source": [
    "## Normalizácia\n",
    "Aj posledná chyba v zozname je stále príliš obrovské číslo"
   ]
  },
  {
   "cell_type": "code",
   "execution_count": 66,
   "metadata": {},
   "outputs": [
    {
     "data": {
      "text/plain": [
       "564674.125"
      ]
     },
     "execution_count": 66,
     "metadata": {},
     "output_type": "execute_result"
    }
   ],
   "source": [
    "losses[-1]"
   ]
  },
  {
   "cell_type": "markdown",
   "metadata": {},
   "source": [
    "Pracujeme totiž s veľkými číslami v doméne platov"
   ]
  },
  {
   "cell_type": "code",
   "execution_count": 67,
   "metadata": {},
   "outputs": [
    {
     "data": {
      "text/plain": [
       "8266.0"
      ]
     },
     "execution_count": 67,
     "metadata": {},
     "output_type": "execute_result"
    }
   ],
   "source": [
    "targets.max().item()"
   ]
  },
  {
   "cell_type": "markdown",
   "metadata": {},
   "source": [
    "Definujeme funkciu normalizácie, ktorá automaticky nájde `max` a `min` a preškáluje hodnoty na interval `[0, 1]`"
   ]
  },
  {
   "cell_type": "code",
   "execution_count": 68,
   "metadata": {},
   "outputs": [],
   "source": [
    "def normalize(x):\n",
    "    x_min = x.min().item()\n",
    "    x_max = x.max().item()\n",
    "    nx = x.clone().detach()\n",
    "    nx = (nx - x_min) / (x_max - x_min)\n",
    "    return nx"
   ]
  },
  {
   "cell_type": "code",
   "execution_count": 69,
   "metadata": {},
   "outputs": [
    {
     "name": "stdout",
     "output_type": "stream",
     "text": [
      "tensor([[0.0000],\n",
      "        [0.0213],\n",
      "        [0.0426],\n",
      "        [0.0957],\n",
      "        [0.1170],\n",
      "        [0.1915],\n",
      "        [0.2021],\n",
      "        [0.2234],\n",
      "        [0.2234],\n",
      "        [0.2766],\n",
      "        [0.2979],\n",
      "        [0.3085],\n",
      "        [0.3085],\n",
      "        [0.3191],\n",
      "        [0.3617],\n",
      "        [0.4043],\n",
      "        [0.4255],\n",
      "        [0.4468],\n",
      "        [0.5106],\n",
      "        [0.5213],\n",
      "        [0.6064],\n",
      "        [0.6383],\n",
      "        [0.7234],\n",
      "        [0.7553],\n",
      "        [0.8085],\n",
      "        [0.8404],\n",
      "        [0.8936],\n",
      "        [0.9043],\n",
      "        [0.9787],\n",
      "        [1.0000]])\n"
     ]
    }
   ],
   "source": [
    "ninputs = normalize(inputs)\n",
    "print(ninputs)"
   ]
  },
  {
   "cell_type": "code",
   "execution_count": 70,
   "metadata": {},
   "outputs": [],
   "source": [
    "ninputs = normalize(inputs)\n",
    "ntargets = normalize(targets)"
   ]
  },
  {
   "cell_type": "markdown",
   "metadata": {},
   "source": [
    "Skúsme natrénovať model na škálovaných hodnotách"
   ]
  },
  {
   "cell_type": "code",
   "execution_count": 71,
   "metadata": {},
   "outputs": [],
   "source": [
    "model_1 = create_random_model()\n",
    "losses = train(ninputs, ntargets, model_1, 15000)"
   ]
  },
  {
   "cell_type": "markdown",
   "metadata": {},
   "source": [
    "Musíme pozmeniť funkciu vykreslenia modelu. Teraz sa pohybujeme v intervale `[0, 1]`, takže funkciu patrične opravíme."
   ]
  },
  {
   "cell_type": "code",
   "execution_count": 72,
   "metadata": {},
   "outputs": [],
   "source": [
    "def plot_model(inputs, targets, model, losses):\n",
    "    fig, (ax1, ax2) = plt.subplots(2, 1, figsize=(10,10))\n",
    "    \n",
    "    ax1.scatter(inputs, targets)\n",
    "    x = torch.from_numpy(np.linspace(0, 1, 2))\n",
    "    y = use_model(x, model).detach()\n",
    "    ax1.plot(x, y, color=\"r\")\n",
    "    ax1.set_xlabel(\"years of practice\")\n",
    "    ax1.set_ylabel(\"salary\")\n",
    "    \n",
    "    ax2.plot(losses, color=\"g\")\n",
    "    ax2.set_ylim(bottom=0)\n",
    "    ax2.set_xlabel(\"epochs\")\n",
    "    ax2.set_ylabel(\"loss\")\n",
    "    \n",
    "    plt.show()\n",
    "    return fig"
   ]
  },
  {
   "cell_type": "markdown",
   "metadata": {},
   "source": [
    "Dajme dokopy všetky funkcie. Vytvorenie náhodného modelu, trénovanie aj vykreslenie. Takto sa môžeme pohrať s rôznymi parametrami aby sme zistili ako sa model správa a či vieme nájsť správne parametre."
   ]
  },
  {
   "cell_type": "code",
   "execution_count": 73,
   "metadata": {},
   "outputs": [
    {
     "data": {
      "image/png": "[encoded data removed]",
      "text/plain": [
       "<Figure size 720x720 with 2 Axes>"
      ]
     },
     "metadata": {
      "needs_background": "light"
     },
     "output_type": "display_data"
    }
   ],
   "source": [
    "model_1 = create_random_model()\n",
    "losses = train(ninputs, ntargets, model_1, 10000, learning_rate=0.0001)\n",
    "fig1 = plot_model(ninputs, ntargets, model_1, losses)"
   ]
  },
  {
   "cell_type": "markdown",
   "metadata": {},
   "source": [
    "## Finálny program\n",
    "Aby sme dielo dokonaly, musíme napísať aj funkciu, ktorá preškáluje hodnoty z `[0, 1]` späť na doménu platov."
   ]
  },
  {
   "cell_type": "code",
   "execution_count": 74,
   "metadata": {},
   "outputs": [],
   "source": [
    "def rescale(x, x_min, x_max):\n",
    "    sx = x.clone().detach()\n",
    "    sx = sx * (x_max - x_min) + x_min\n",
    "    return sx"
   ]
  },
  {
   "cell_type": "code",
   "execution_count": 75,
   "metadata": {},
   "outputs": [
    {
     "name": "stdout",
     "output_type": "stream",
     "text": [
      "tensor([[1979.],\n",
      "        [2498.],\n",
      "        [1857.],\n",
      "        [2295.],\n",
      "        [2020.],\n",
      "        [3288.],\n",
      "        [3554.],\n",
      "        [3122.],\n",
      "        [3879.],\n",
      "        [3330.],\n",
      "        [3786.],\n",
      "        [3924.],\n",
      "        [4812.],\n",
      "        [3922.],\n",
      "        [5627.],\n",
      "        [4844.],\n",
      "        [4699.],\n",
      "        [5791.],\n",
      "        [5960.],\n",
      "        [6912.],\n",
      "        [6646.],\n",
      "        [6940.],\n",
      "        [6670.],\n",
      "        [7617.],\n",
      "        [7285.],\n",
      "        [6994.],\n",
      "        [7856.],\n",
      "        [7528.],\n",
      "        [8266.],\n",
      "        [8227.]])\n",
      "tensor([[1979.],\n",
      "        [2498.],\n",
      "        [1857.],\n",
      "        [2295.],\n",
      "        [2020.],\n",
      "        [3288.],\n",
      "        [3554.],\n",
      "        [3122.],\n",
      "        [3879.],\n",
      "        [3330.],\n",
      "        [3786.],\n",
      "        [3924.],\n",
      "        [4812.],\n",
      "        [3922.],\n",
      "        [5627.],\n",
      "        [4844.],\n",
      "        [4699.],\n",
      "        [5791.],\n",
      "        [5960.],\n",
      "        [6912.],\n",
      "        [6646.],\n",
      "        [6940.],\n",
      "        [6670.],\n",
      "        [7617.],\n",
      "        [7285.],\n",
      "        [6994.],\n",
      "        [7856.],\n",
      "        [7528.],\n",
      "        [8266.],\n",
      "        [8227.]])\n"
     ]
    }
   ],
   "source": [
    "stargets = rescale(ntargets, 1857, 8266)\n",
    "print(stargets)\n",
    "print(targets)"
   ]
  },
  {
   "cell_type": "markdown",
   "metadata": {},
   "source": [
    "Musíme pozmeniť aj funkciu normalize, aby nám dobre poslúžila pre funkciu `predpovedaj_plat`."
   ]
  },
  {
   "cell_type": "code",
   "execution_count": 76,
   "metadata": {},
   "outputs": [],
   "source": [
    "def normalize(x, x_min, x_max):\n",
    "    nx = x.clone().detach()\n",
    "    nx = (nx - x_min) / (x_max - x_min)\n",
    "    return nx\n",
    "\n",
    "def predpovedaj_plat(pocet_rokov):\n",
    "    years = torch.tensor(pocet_rokov)\n",
    "    nyears = normalize(years, 1.1, 10.5 )\n",
    "    pred = use_model(nyears, model_1)\n",
    "    salary = rescale(pred, 1857, 8266)\n",
    "    return salary.item()\n"
   ]
  },
  {
   "cell_type": "code",
   "execution_count": 77,
   "metadata": {},
   "outputs": [
    {
     "name": "stdout",
     "output_type": "stream",
     "text": [
      "po 30 rokoch budes zarabat 15528.87 EUR\n"
     ]
    }
   ],
   "source": [
    "plat = predpovedaj_plat(30)\n",
    "print(\"po 30 rokoch budes zarabat {:.2f} EUR\".format(plat))"
   ]
  }
 ],
 "metadata": {
  "kernelspec": {
   "display_name": "Python 3",
   "language": "python",
   "name": "python3"
  },
  "language_info": {
   "codemirror_mode": {
    "name": "ipython",
    "version": 3
   },
   "file_extension": ".py",
   "mimetype": "text/x-python",
   "name": "python",
   "nbconvert_exporter": "python",
   "pygments_lexer": "ipython3",
   "version": "3.7.1"
  }
 },
 "nbformat": 4,
 "nbformat_minor": 4
}
